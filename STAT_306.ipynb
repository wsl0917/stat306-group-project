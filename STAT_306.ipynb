{
 "cells": [
  {
   "cell_type": "markdown",
   "id": "08053038-0c71-4261-9817-eb0d1a3cc837",
   "metadata": {},
   "source": [
    "# STAT 306 Group Project"
   ]
  },
  {
   "cell_type": "code",
   "execution_count": 14,
   "id": "34660a47-a780-4fe4-9291-128f0acd4e7f",
   "metadata": {},
   "outputs": [],
   "source": [
    "options(warn.conflicts = FALSE)\n",
    "library(dplyr)\n",
    "library(tidyr)\n",
    "library(ggplot2)\n",
    "library(lmtest)"
   ]
  },
  {
   "cell_type": "markdown",
   "id": "e8926371-f65c-49c6-a3eb-b8cd1ce0e954",
   "metadata": {},
   "source": [
    "## Loading the dataset"
   ]
  },
  {
   "cell_type": "code",
   "execution_count": 15,
   "id": "230aafa4-994c-45ec-8e06-30aff8b0252a",
   "metadata": {},
   "outputs": [
    {
     "data": {
      "text/html": [
       "<table class=\"dataframe\">\n",
       "<caption>A data.frame: 6 × 15</caption>\n",
       "<thead>\n",
       "\t<tr><th></th><th scope=col>ID</th><th scope=col>Age</th><th scope=col>Gender</th><th scope=col>Bedtime</th><th scope=col>Wakeup.time</th><th scope=col>Sleep.duration</th><th scope=col>Sleep.efficiency</th><th scope=col>REM.sleep.percentage</th><th scope=col>Deep.sleep.percentage</th><th scope=col>Light.sleep.percentage</th><th scope=col>Awakenings</th><th scope=col>Caffeine.consumption</th><th scope=col>Alcohol.consumption</th><th scope=col>Smoking.status</th><th scope=col>Exercise.frequency</th></tr>\n",
       "\t<tr><th></th><th scope=col>&lt;int&gt;</th><th scope=col>&lt;int&gt;</th><th scope=col>&lt;chr&gt;</th><th scope=col>&lt;chr&gt;</th><th scope=col>&lt;chr&gt;</th><th scope=col>&lt;dbl&gt;</th><th scope=col>&lt;dbl&gt;</th><th scope=col>&lt;int&gt;</th><th scope=col>&lt;int&gt;</th><th scope=col>&lt;int&gt;</th><th scope=col>&lt;dbl&gt;</th><th scope=col>&lt;dbl&gt;</th><th scope=col>&lt;dbl&gt;</th><th scope=col>&lt;chr&gt;</th><th scope=col>&lt;dbl&gt;</th></tr>\n",
       "</thead>\n",
       "<tbody>\n",
       "\t<tr><th scope=row>1</th><td>1</td><td>65</td><td>Female</td><td>2021-03-06 01:00:00</td><td>2021-03-06 07:00:00</td><td>6.0</td><td>0.88</td><td>18</td><td>70</td><td>12</td><td>0</td><td> 0</td><td>0</td><td>Yes</td><td>3</td></tr>\n",
       "\t<tr><th scope=row>2</th><td>2</td><td>69</td><td>Male  </td><td>2021-12-05 02:00:00</td><td>2021-12-05 09:00:00</td><td>7.0</td><td>0.66</td><td>19</td><td>28</td><td>53</td><td>3</td><td> 0</td><td>3</td><td>Yes</td><td>3</td></tr>\n",
       "\t<tr><th scope=row>3</th><td>3</td><td>40</td><td>Female</td><td>2021-05-25 21:30:00</td><td>2021-05-25 05:30:00</td><td>8.0</td><td>0.89</td><td>20</td><td>70</td><td>10</td><td>1</td><td> 0</td><td>0</td><td>No </td><td>3</td></tr>\n",
       "\t<tr><th scope=row>4</th><td>4</td><td>40</td><td>Female</td><td>2021-11-03 02:30:00</td><td>2021-11-03 08:30:00</td><td>6.0</td><td>0.51</td><td>23</td><td>25</td><td>52</td><td>3</td><td>50</td><td>5</td><td>Yes</td><td>1</td></tr>\n",
       "\t<tr><th scope=row>5</th><td>5</td><td>57</td><td>Male  </td><td>2021-03-13 01:00:00</td><td>2021-03-13 09:00:00</td><td>8.0</td><td>0.76</td><td>27</td><td>55</td><td>18</td><td>3</td><td> 0</td><td>3</td><td>No </td><td>3</td></tr>\n",
       "\t<tr><th scope=row>6</th><td>6</td><td>36</td><td>Female</td><td>2021-07-01 21:00:00</td><td>2021-07-01 04:30:00</td><td>7.5</td><td>0.90</td><td>23</td><td>60</td><td>17</td><td>0</td><td>NA</td><td>0</td><td>No </td><td>1</td></tr>\n",
       "</tbody>\n",
       "</table>\n"
      ],
      "text/latex": [
       "A data.frame: 6 × 15\n",
       "\\begin{tabular}{r|lllllllllllllll}\n",
       "  & ID & Age & Gender & Bedtime & Wakeup.time & Sleep.duration & Sleep.efficiency & REM.sleep.percentage & Deep.sleep.percentage & Light.sleep.percentage & Awakenings & Caffeine.consumption & Alcohol.consumption & Smoking.status & Exercise.frequency\\\\\n",
       "  & <int> & <int> & <chr> & <chr> & <chr> & <dbl> & <dbl> & <int> & <int> & <int> & <dbl> & <dbl> & <dbl> & <chr> & <dbl>\\\\\n",
       "\\hline\n",
       "\t1 & 1 & 65 & Female & 2021-03-06 01:00:00 & 2021-03-06 07:00:00 & 6.0 & 0.88 & 18 & 70 & 12 & 0 &  0 & 0 & Yes & 3\\\\\n",
       "\t2 & 2 & 69 & Male   & 2021-12-05 02:00:00 & 2021-12-05 09:00:00 & 7.0 & 0.66 & 19 & 28 & 53 & 3 &  0 & 3 & Yes & 3\\\\\n",
       "\t3 & 3 & 40 & Female & 2021-05-25 21:30:00 & 2021-05-25 05:30:00 & 8.0 & 0.89 & 20 & 70 & 10 & 1 &  0 & 0 & No  & 3\\\\\n",
       "\t4 & 4 & 40 & Female & 2021-11-03 02:30:00 & 2021-11-03 08:30:00 & 6.0 & 0.51 & 23 & 25 & 52 & 3 & 50 & 5 & Yes & 1\\\\\n",
       "\t5 & 5 & 57 & Male   & 2021-03-13 01:00:00 & 2021-03-13 09:00:00 & 8.0 & 0.76 & 27 & 55 & 18 & 3 &  0 & 3 & No  & 3\\\\\n",
       "\t6 & 6 & 36 & Female & 2021-07-01 21:00:00 & 2021-07-01 04:30:00 & 7.5 & 0.90 & 23 & 60 & 17 & 0 & NA & 0 & No  & 1\\\\\n",
       "\\end{tabular}\n"
      ],
      "text/markdown": [
       "\n",
       "A data.frame: 6 × 15\n",
       "\n",
       "| <!--/--> | ID &lt;int&gt; | Age &lt;int&gt; | Gender &lt;chr&gt; | Bedtime &lt;chr&gt; | Wakeup.time &lt;chr&gt; | Sleep.duration &lt;dbl&gt; | Sleep.efficiency &lt;dbl&gt; | REM.sleep.percentage &lt;int&gt; | Deep.sleep.percentage &lt;int&gt; | Light.sleep.percentage &lt;int&gt; | Awakenings &lt;dbl&gt; | Caffeine.consumption &lt;dbl&gt; | Alcohol.consumption &lt;dbl&gt; | Smoking.status &lt;chr&gt; | Exercise.frequency &lt;dbl&gt; |\n",
       "|---|---|---|---|---|---|---|---|---|---|---|---|---|---|---|---|\n",
       "| 1 | 1 | 65 | Female | 2021-03-06 01:00:00 | 2021-03-06 07:00:00 | 6.0 | 0.88 | 18 | 70 | 12 | 0 |  0 | 0 | Yes | 3 |\n",
       "| 2 | 2 | 69 | Male   | 2021-12-05 02:00:00 | 2021-12-05 09:00:00 | 7.0 | 0.66 | 19 | 28 | 53 | 3 |  0 | 3 | Yes | 3 |\n",
       "| 3 | 3 | 40 | Female | 2021-05-25 21:30:00 | 2021-05-25 05:30:00 | 8.0 | 0.89 | 20 | 70 | 10 | 1 |  0 | 0 | No  | 3 |\n",
       "| 4 | 4 | 40 | Female | 2021-11-03 02:30:00 | 2021-11-03 08:30:00 | 6.0 | 0.51 | 23 | 25 | 52 | 3 | 50 | 5 | Yes | 1 |\n",
       "| 5 | 5 | 57 | Male   | 2021-03-13 01:00:00 | 2021-03-13 09:00:00 | 8.0 | 0.76 | 27 | 55 | 18 | 3 |  0 | 3 | No  | 3 |\n",
       "| 6 | 6 | 36 | Female | 2021-07-01 21:00:00 | 2021-07-01 04:30:00 | 7.5 | 0.90 | 23 | 60 | 17 | 0 | NA | 0 | No  | 1 |\n",
       "\n"
      ],
      "text/plain": [
       "  ID Age Gender Bedtime             Wakeup.time         Sleep.duration\n",
       "1 1  65  Female 2021-03-06 01:00:00 2021-03-06 07:00:00 6.0           \n",
       "2 2  69  Male   2021-12-05 02:00:00 2021-12-05 09:00:00 7.0           \n",
       "3 3  40  Female 2021-05-25 21:30:00 2021-05-25 05:30:00 8.0           \n",
       "4 4  40  Female 2021-11-03 02:30:00 2021-11-03 08:30:00 6.0           \n",
       "5 5  57  Male   2021-03-13 01:00:00 2021-03-13 09:00:00 8.0           \n",
       "6 6  36  Female 2021-07-01 21:00:00 2021-07-01 04:30:00 7.5           \n",
       "  Sleep.efficiency REM.sleep.percentage Deep.sleep.percentage\n",
       "1 0.88             18                   70                   \n",
       "2 0.66             19                   28                   \n",
       "3 0.89             20                   70                   \n",
       "4 0.51             23                   25                   \n",
       "5 0.76             27                   55                   \n",
       "6 0.90             23                   60                   \n",
       "  Light.sleep.percentage Awakenings Caffeine.consumption Alcohol.consumption\n",
       "1 12                     0           0                   0                  \n",
       "2 53                     3           0                   3                  \n",
       "3 10                     1           0                   0                  \n",
       "4 52                     3          50                   5                  \n",
       "5 18                     3           0                   3                  \n",
       "6 17                     0          NA                   0                  \n",
       "  Smoking.status Exercise.frequency\n",
       "1 Yes            3                 \n",
       "2 Yes            3                 \n",
       "3 No             3                 \n",
       "4 Yes            1                 \n",
       "5 No             3                 \n",
       "6 No             1                 "
      ]
     },
     "metadata": {},
     "output_type": "display_data"
    },
    {
     "data": {
      "text/html": [
       "<table class=\"dataframe\">\n",
       "<caption>A data.frame: 6 × 15</caption>\n",
       "<thead>\n",
       "\t<tr><th></th><th scope=col>ID</th><th scope=col>Age</th><th scope=col>Gender</th><th scope=col>Bedtime</th><th scope=col>Wakeup.time</th><th scope=col>Sleep.duration</th><th scope=col>Sleep.efficiency</th><th scope=col>REM.sleep.percentage</th><th scope=col>Deep.sleep.percentage</th><th scope=col>Light.sleep.percentage</th><th scope=col>Awakenings</th><th scope=col>Caffeine.consumption</th><th scope=col>Alcohol.consumption</th><th scope=col>Smoking.status</th><th scope=col>Exercise.frequency</th></tr>\n",
       "\t<tr><th></th><th scope=col>&lt;int&gt;</th><th scope=col>&lt;int&gt;</th><th scope=col>&lt;chr&gt;</th><th scope=col>&lt;chr&gt;</th><th scope=col>&lt;chr&gt;</th><th scope=col>&lt;dbl&gt;</th><th scope=col>&lt;dbl&gt;</th><th scope=col>&lt;int&gt;</th><th scope=col>&lt;int&gt;</th><th scope=col>&lt;int&gt;</th><th scope=col>&lt;dbl&gt;</th><th scope=col>&lt;dbl&gt;</th><th scope=col>&lt;dbl&gt;</th><th scope=col>&lt;chr&gt;</th><th scope=col>&lt;dbl&gt;</th></tr>\n",
       "</thead>\n",
       "<tbody>\n",
       "\t<tr><th scope=row>447</th><td>447</td><td>23</td><td>Male  </td><td>2021-04-21 00:00:00</td><td>2021-04-21 07:00:00</td><td>7.0</td><td>0.50</td><td>15</td><td>40</td><td>45</td><td>2</td><td> 0</td><td>4</td><td>Yes</td><td>NA</td></tr>\n",
       "\t<tr><th scope=row>448</th><td>448</td><td>27</td><td>Female</td><td>2021-11-13 22:00:00</td><td>2021-11-13 05:30:00</td><td>7.5</td><td>0.91</td><td>22</td><td>57</td><td>21</td><td>0</td><td> 0</td><td>0</td><td>No </td><td> 5</td></tr>\n",
       "\t<tr><th scope=row>449</th><td>449</td><td>52</td><td>Male  </td><td>2021-03-31 21:00:00</td><td>2021-03-31 03:00:00</td><td>6.0</td><td>0.74</td><td>28</td><td>57</td><td>15</td><td>4</td><td>25</td><td>0</td><td>No </td><td> 3</td></tr>\n",
       "\t<tr><th scope=row>450</th><td>450</td><td>40</td><td>Female</td><td>2021-09-07 23:00:00</td><td>2021-09-07 07:30:00</td><td>8.5</td><td>0.55</td><td>20</td><td>32</td><td>48</td><td>1</td><td>NA</td><td>3</td><td>Yes</td><td> 0</td></tr>\n",
       "\t<tr><th scope=row>451</th><td>451</td><td>45</td><td>Male  </td><td>2021-07-29 21:00:00</td><td>2021-07-29 04:00:00</td><td>7.0</td><td>0.76</td><td>18</td><td>72</td><td>10</td><td>3</td><td> 0</td><td>0</td><td>No </td><td> 3</td></tr>\n",
       "\t<tr><th scope=row>452</th><td>452</td><td>18</td><td>Male  </td><td>2021-03-17 02:30:00</td><td>2021-03-17 10:00:00</td><td>7.5</td><td>0.63</td><td>22</td><td>23</td><td>55</td><td>1</td><td>50</td><td>0</td><td>No </td><td> 1</td></tr>\n",
       "</tbody>\n",
       "</table>\n"
      ],
      "text/latex": [
       "A data.frame: 6 × 15\n",
       "\\begin{tabular}{r|lllllllllllllll}\n",
       "  & ID & Age & Gender & Bedtime & Wakeup.time & Sleep.duration & Sleep.efficiency & REM.sleep.percentage & Deep.sleep.percentage & Light.sleep.percentage & Awakenings & Caffeine.consumption & Alcohol.consumption & Smoking.status & Exercise.frequency\\\\\n",
       "  & <int> & <int> & <chr> & <chr> & <chr> & <dbl> & <dbl> & <int> & <int> & <int> & <dbl> & <dbl> & <dbl> & <chr> & <dbl>\\\\\n",
       "\\hline\n",
       "\t447 & 447 & 23 & Male   & 2021-04-21 00:00:00 & 2021-04-21 07:00:00 & 7.0 & 0.50 & 15 & 40 & 45 & 2 &  0 & 4 & Yes & NA\\\\\n",
       "\t448 & 448 & 27 & Female & 2021-11-13 22:00:00 & 2021-11-13 05:30:00 & 7.5 & 0.91 & 22 & 57 & 21 & 0 &  0 & 0 & No  &  5\\\\\n",
       "\t449 & 449 & 52 & Male   & 2021-03-31 21:00:00 & 2021-03-31 03:00:00 & 6.0 & 0.74 & 28 & 57 & 15 & 4 & 25 & 0 & No  &  3\\\\\n",
       "\t450 & 450 & 40 & Female & 2021-09-07 23:00:00 & 2021-09-07 07:30:00 & 8.5 & 0.55 & 20 & 32 & 48 & 1 & NA & 3 & Yes &  0\\\\\n",
       "\t451 & 451 & 45 & Male   & 2021-07-29 21:00:00 & 2021-07-29 04:00:00 & 7.0 & 0.76 & 18 & 72 & 10 & 3 &  0 & 0 & No  &  3\\\\\n",
       "\t452 & 452 & 18 & Male   & 2021-03-17 02:30:00 & 2021-03-17 10:00:00 & 7.5 & 0.63 & 22 & 23 & 55 & 1 & 50 & 0 & No  &  1\\\\\n",
       "\\end{tabular}\n"
      ],
      "text/markdown": [
       "\n",
       "A data.frame: 6 × 15\n",
       "\n",
       "| <!--/--> | ID &lt;int&gt; | Age &lt;int&gt; | Gender &lt;chr&gt; | Bedtime &lt;chr&gt; | Wakeup.time &lt;chr&gt; | Sleep.duration &lt;dbl&gt; | Sleep.efficiency &lt;dbl&gt; | REM.sleep.percentage &lt;int&gt; | Deep.sleep.percentage &lt;int&gt; | Light.sleep.percentage &lt;int&gt; | Awakenings &lt;dbl&gt; | Caffeine.consumption &lt;dbl&gt; | Alcohol.consumption &lt;dbl&gt; | Smoking.status &lt;chr&gt; | Exercise.frequency &lt;dbl&gt; |\n",
       "|---|---|---|---|---|---|---|---|---|---|---|---|---|---|---|---|\n",
       "| 447 | 447 | 23 | Male   | 2021-04-21 00:00:00 | 2021-04-21 07:00:00 | 7.0 | 0.50 | 15 | 40 | 45 | 2 |  0 | 4 | Yes | NA |\n",
       "| 448 | 448 | 27 | Female | 2021-11-13 22:00:00 | 2021-11-13 05:30:00 | 7.5 | 0.91 | 22 | 57 | 21 | 0 |  0 | 0 | No  |  5 |\n",
       "| 449 | 449 | 52 | Male   | 2021-03-31 21:00:00 | 2021-03-31 03:00:00 | 6.0 | 0.74 | 28 | 57 | 15 | 4 | 25 | 0 | No  |  3 |\n",
       "| 450 | 450 | 40 | Female | 2021-09-07 23:00:00 | 2021-09-07 07:30:00 | 8.5 | 0.55 | 20 | 32 | 48 | 1 | NA | 3 | Yes |  0 |\n",
       "| 451 | 451 | 45 | Male   | 2021-07-29 21:00:00 | 2021-07-29 04:00:00 | 7.0 | 0.76 | 18 | 72 | 10 | 3 |  0 | 0 | No  |  3 |\n",
       "| 452 | 452 | 18 | Male   | 2021-03-17 02:30:00 | 2021-03-17 10:00:00 | 7.5 | 0.63 | 22 | 23 | 55 | 1 | 50 | 0 | No  |  1 |\n",
       "\n"
      ],
      "text/plain": [
       "    ID  Age Gender Bedtime             Wakeup.time         Sleep.duration\n",
       "447 447 23  Male   2021-04-21 00:00:00 2021-04-21 07:00:00 7.0           \n",
       "448 448 27  Female 2021-11-13 22:00:00 2021-11-13 05:30:00 7.5           \n",
       "449 449 52  Male   2021-03-31 21:00:00 2021-03-31 03:00:00 6.0           \n",
       "450 450 40  Female 2021-09-07 23:00:00 2021-09-07 07:30:00 8.5           \n",
       "451 451 45  Male   2021-07-29 21:00:00 2021-07-29 04:00:00 7.0           \n",
       "452 452 18  Male   2021-03-17 02:30:00 2021-03-17 10:00:00 7.5           \n",
       "    Sleep.efficiency REM.sleep.percentage Deep.sleep.percentage\n",
       "447 0.50             15                   40                   \n",
       "448 0.91             22                   57                   \n",
       "449 0.74             28                   57                   \n",
       "450 0.55             20                   32                   \n",
       "451 0.76             18                   72                   \n",
       "452 0.63             22                   23                   \n",
       "    Light.sleep.percentage Awakenings Caffeine.consumption Alcohol.consumption\n",
       "447 45                     2           0                   4                  \n",
       "448 21                     0           0                   0                  \n",
       "449 15                     4          25                   0                  \n",
       "450 48                     1          NA                   3                  \n",
       "451 10                     3           0                   0                  \n",
       "452 55                     1          50                   0                  \n",
       "    Smoking.status Exercise.frequency\n",
       "447 Yes            NA                \n",
       "448 No              5                \n",
       "449 No              3                \n",
       "450 Yes             0                \n",
       "451 No              3                \n",
       "452 No              1                "
      ]
     },
     "metadata": {},
     "output_type": "display_data"
    },
    {
     "data": {
      "text/plain": [
       "       ID             Age           Gender            Bedtime         \n",
       " Min.   :  1.0   Min.   : 9.00   Length:452         Length:452        \n",
       " 1st Qu.:113.8   1st Qu.:29.00   Class :character   Class :character  \n",
       " Median :226.5   Median :40.00   Mode  :character   Mode  :character  \n",
       " Mean   :226.5   Mean   :40.29                                        \n",
       " 3rd Qu.:339.2   3rd Qu.:52.00                                        \n",
       " Max.   :452.0   Max.   :69.00                                        \n",
       "                                                                      \n",
       " Wakeup.time        Sleep.duration   Sleep.efficiency REM.sleep.percentage\n",
       " Length:452         Min.   : 5.000   Min.   :0.5000   Min.   :15.00       \n",
       " Class :character   1st Qu.: 7.000   1st Qu.:0.6975   1st Qu.:20.00       \n",
       " Mode  :character   Median : 7.500   Median :0.8200   Median :22.00       \n",
       "                    Mean   : 7.466   Mean   :0.7889   Mean   :22.62       \n",
       "                    3rd Qu.: 8.000   3rd Qu.:0.9000   3rd Qu.:25.00       \n",
       "                    Max.   :10.000   Max.   :0.9900   Max.   :30.00       \n",
       "                                                                          \n",
       " Deep.sleep.percentage Light.sleep.percentage   Awakenings   \n",
       " Min.   :18.00         Min.   : 7.00          Min.   :0.000  \n",
       " 1st Qu.:48.25         1st Qu.:15.00          1st Qu.:1.000  \n",
       " Median :58.00         Median :18.00          Median :1.000  \n",
       " Mean   :52.82         Mean   :24.56          Mean   :1.641  \n",
       " 3rd Qu.:63.00         3rd Qu.:32.50          3rd Qu.:3.000  \n",
       " Max.   :75.00         Max.   :63.00          Max.   :4.000  \n",
       "                                              NA's   :20     \n",
       " Caffeine.consumption Alcohol.consumption Smoking.status     Exercise.frequency\n",
       " Min.   :  0.00       Min.   :0.000       Length:452         Min.   :0.000     \n",
       " 1st Qu.:  0.00       1st Qu.:0.000       Class :character   1st Qu.:0.000     \n",
       " Median : 25.00       Median :0.000       Mode  :character   Median :2.000     \n",
       " Mean   : 23.65       Mean   :1.174                          Mean   :1.791     \n",
       " 3rd Qu.: 50.00       3rd Qu.:2.000                          3rd Qu.:3.000     \n",
       " Max.   :200.00       Max.   :5.000                          Max.   :5.000     \n",
       " NA's   :25           NA's   :14                             NA's   :6         "
      ]
     },
     "metadata": {},
     "output_type": "display_data"
    }
   ],
   "source": [
    "# Load the dataset\n",
    "sleep_data <- read.csv(\"Sleep_Efficiency.csv\")\n",
    "\n",
    "# View the summary of the dataset \n",
    "head(sleep_data)\n",
    "tail(sleep_data)\n",
    "summary(sleep_data)"
   ]
  },
  {
   "cell_type": "markdown",
   "id": "102f5f07-b302-4911-83fa-93fba7a30bfa",
   "metadata": {},
   "source": [
    "## Cleaning the dataset"
   ]
  },
  {
   "cell_type": "markdown",
   "id": "81fecb7b-9f5d-417e-953e-8ea414c6829a",
   "metadata": {},
   "source": [
    "The decision to remove the \"Bedtime\" and \"Wakeup time\" columns from the dataset is because these variables might not directly influence sleep efficiency and including them could create redundancy. Sleep efficiency measures how well someone sleeps during a specific time period, which is already captured by other variables like total sleep time. Additionally, these variables might be closely related to other predictors in the dataset, potentially causing issues with the analysis. Therefore, removing \"Bedtime\" and \"Wakeup time\" allows for a more focused analysis on factors that are likely to have a stronger impact on sleep efficiency."
   ]
  },
  {
   "cell_type": "code",
   "execution_count": 16,
   "id": "8f1d38f6-3c66-4c48-8461-8bf13b53ebb0",
   "metadata": {},
   "outputs": [
    {
     "data": {
      "text/html": [
       "<table class=\"dataframe\">\n",
       "<caption>A data.frame: 6 × 13</caption>\n",
       "<thead>\n",
       "\t<tr><th></th><th scope=col>ID</th><th scope=col>Age</th><th scope=col>Gender</th><th scope=col>Sleep.duration</th><th scope=col>Sleep.efficiency</th><th scope=col>REM.sleep.percentage</th><th scope=col>Deep.sleep.percentage</th><th scope=col>Light.sleep.percentage</th><th scope=col>Awakenings</th><th scope=col>Caffeine.consumption</th><th scope=col>Alcohol.consumption</th><th scope=col>Smoking.status</th><th scope=col>Exercise.frequency</th></tr>\n",
       "\t<tr><th></th><th scope=col>&lt;int&gt;</th><th scope=col>&lt;int&gt;</th><th scope=col>&lt;chr&gt;</th><th scope=col>&lt;dbl&gt;</th><th scope=col>&lt;dbl&gt;</th><th scope=col>&lt;int&gt;</th><th scope=col>&lt;int&gt;</th><th scope=col>&lt;int&gt;</th><th scope=col>&lt;dbl&gt;</th><th scope=col>&lt;dbl&gt;</th><th scope=col>&lt;dbl&gt;</th><th scope=col>&lt;chr&gt;</th><th scope=col>&lt;dbl&gt;</th></tr>\n",
       "</thead>\n",
       "<tbody>\n",
       "\t<tr><th scope=row>1</th><td>1</td><td>65</td><td>Female</td><td>6.0</td><td>0.88</td><td>18</td><td>70</td><td>12</td><td>0</td><td> 0</td><td>0</td><td>Yes</td><td>3</td></tr>\n",
       "\t<tr><th scope=row>2</th><td>2</td><td>69</td><td>Male  </td><td>7.0</td><td>0.66</td><td>19</td><td>28</td><td>53</td><td>3</td><td> 0</td><td>3</td><td>Yes</td><td>3</td></tr>\n",
       "\t<tr><th scope=row>3</th><td>3</td><td>40</td><td>Female</td><td>8.0</td><td>0.89</td><td>20</td><td>70</td><td>10</td><td>1</td><td> 0</td><td>0</td><td>No </td><td>3</td></tr>\n",
       "\t<tr><th scope=row>4</th><td>4</td><td>40</td><td>Female</td><td>6.0</td><td>0.51</td><td>23</td><td>25</td><td>52</td><td>3</td><td>50</td><td>5</td><td>Yes</td><td>1</td></tr>\n",
       "\t<tr><th scope=row>5</th><td>5</td><td>57</td><td>Male  </td><td>8.0</td><td>0.76</td><td>27</td><td>55</td><td>18</td><td>3</td><td> 0</td><td>3</td><td>No </td><td>3</td></tr>\n",
       "\t<tr><th scope=row>6</th><td>6</td><td>36</td><td>Female</td><td>7.5</td><td>0.90</td><td>23</td><td>60</td><td>17</td><td>0</td><td>NA</td><td>0</td><td>No </td><td>1</td></tr>\n",
       "</tbody>\n",
       "</table>\n"
      ],
      "text/latex": [
       "A data.frame: 6 × 13\n",
       "\\begin{tabular}{r|lllllllllllll}\n",
       "  & ID & Age & Gender & Sleep.duration & Sleep.efficiency & REM.sleep.percentage & Deep.sleep.percentage & Light.sleep.percentage & Awakenings & Caffeine.consumption & Alcohol.consumption & Smoking.status & Exercise.frequency\\\\\n",
       "  & <int> & <int> & <chr> & <dbl> & <dbl> & <int> & <int> & <int> & <dbl> & <dbl> & <dbl> & <chr> & <dbl>\\\\\n",
       "\\hline\n",
       "\t1 & 1 & 65 & Female & 6.0 & 0.88 & 18 & 70 & 12 & 0 &  0 & 0 & Yes & 3\\\\\n",
       "\t2 & 2 & 69 & Male   & 7.0 & 0.66 & 19 & 28 & 53 & 3 &  0 & 3 & Yes & 3\\\\\n",
       "\t3 & 3 & 40 & Female & 8.0 & 0.89 & 20 & 70 & 10 & 1 &  0 & 0 & No  & 3\\\\\n",
       "\t4 & 4 & 40 & Female & 6.0 & 0.51 & 23 & 25 & 52 & 3 & 50 & 5 & Yes & 1\\\\\n",
       "\t5 & 5 & 57 & Male   & 8.0 & 0.76 & 27 & 55 & 18 & 3 &  0 & 3 & No  & 3\\\\\n",
       "\t6 & 6 & 36 & Female & 7.5 & 0.90 & 23 & 60 & 17 & 0 & NA & 0 & No  & 1\\\\\n",
       "\\end{tabular}\n"
      ],
      "text/markdown": [
       "\n",
       "A data.frame: 6 × 13\n",
       "\n",
       "| <!--/--> | ID &lt;int&gt; | Age &lt;int&gt; | Gender &lt;chr&gt; | Sleep.duration &lt;dbl&gt; | Sleep.efficiency &lt;dbl&gt; | REM.sleep.percentage &lt;int&gt; | Deep.sleep.percentage &lt;int&gt; | Light.sleep.percentage &lt;int&gt; | Awakenings &lt;dbl&gt; | Caffeine.consumption &lt;dbl&gt; | Alcohol.consumption &lt;dbl&gt; | Smoking.status &lt;chr&gt; | Exercise.frequency &lt;dbl&gt; |\n",
       "|---|---|---|---|---|---|---|---|---|---|---|---|---|---|\n",
       "| 1 | 1 | 65 | Female | 6.0 | 0.88 | 18 | 70 | 12 | 0 |  0 | 0 | Yes | 3 |\n",
       "| 2 | 2 | 69 | Male   | 7.0 | 0.66 | 19 | 28 | 53 | 3 |  0 | 3 | Yes | 3 |\n",
       "| 3 | 3 | 40 | Female | 8.0 | 0.89 | 20 | 70 | 10 | 1 |  0 | 0 | No  | 3 |\n",
       "| 4 | 4 | 40 | Female | 6.0 | 0.51 | 23 | 25 | 52 | 3 | 50 | 5 | Yes | 1 |\n",
       "| 5 | 5 | 57 | Male   | 8.0 | 0.76 | 27 | 55 | 18 | 3 |  0 | 3 | No  | 3 |\n",
       "| 6 | 6 | 36 | Female | 7.5 | 0.90 | 23 | 60 | 17 | 0 | NA | 0 | No  | 1 |\n",
       "\n"
      ],
      "text/plain": [
       "  ID Age Gender Sleep.duration Sleep.efficiency REM.sleep.percentage\n",
       "1 1  65  Female 6.0            0.88             18                  \n",
       "2 2  69  Male   7.0            0.66             19                  \n",
       "3 3  40  Female 8.0            0.89             20                  \n",
       "4 4  40  Female 6.0            0.51             23                  \n",
       "5 5  57  Male   8.0            0.76             27                  \n",
       "6 6  36  Female 7.5            0.90             23                  \n",
       "  Deep.sleep.percentage Light.sleep.percentage Awakenings Caffeine.consumption\n",
       "1 70                    12                     0           0                  \n",
       "2 28                    53                     3           0                  \n",
       "3 70                    10                     1           0                  \n",
       "4 25                    52                     3          50                  \n",
       "5 55                    18                     3           0                  \n",
       "6 60                    17                     0          NA                  \n",
       "  Alcohol.consumption Smoking.status Exercise.frequency\n",
       "1 0                   Yes            3                 \n",
       "2 3                   Yes            3                 \n",
       "3 0                   No             3                 \n",
       "4 5                   Yes            1                 \n",
       "5 3                   No             3                 \n",
       "6 0                   No             1                 "
      ]
     },
     "metadata": {},
     "output_type": "display_data"
    },
    {
     "data": {
      "text/html": [
       "<table class=\"dataframe\">\n",
       "<caption>A data.frame: 6 × 13</caption>\n",
       "<thead>\n",
       "\t<tr><th></th><th scope=col>ID</th><th scope=col>Age</th><th scope=col>Gender</th><th scope=col>Sleep.duration</th><th scope=col>Sleep.efficiency</th><th scope=col>REM.sleep.percentage</th><th scope=col>Deep.sleep.percentage</th><th scope=col>Light.sleep.percentage</th><th scope=col>Awakenings</th><th scope=col>Caffeine.consumption</th><th scope=col>Alcohol.consumption</th><th scope=col>Smoking.status</th><th scope=col>Exercise.frequency</th></tr>\n",
       "\t<tr><th></th><th scope=col>&lt;int&gt;</th><th scope=col>&lt;int&gt;</th><th scope=col>&lt;chr&gt;</th><th scope=col>&lt;dbl&gt;</th><th scope=col>&lt;dbl&gt;</th><th scope=col>&lt;int&gt;</th><th scope=col>&lt;int&gt;</th><th scope=col>&lt;int&gt;</th><th scope=col>&lt;dbl&gt;</th><th scope=col>&lt;dbl&gt;</th><th scope=col>&lt;dbl&gt;</th><th scope=col>&lt;chr&gt;</th><th scope=col>&lt;dbl&gt;</th></tr>\n",
       "</thead>\n",
       "<tbody>\n",
       "\t<tr><th scope=row>447</th><td>447</td><td>23</td><td>Male  </td><td>7.0</td><td>0.50</td><td>15</td><td>40</td><td>45</td><td>2</td><td> 0</td><td>4</td><td>Yes</td><td>NA</td></tr>\n",
       "\t<tr><th scope=row>448</th><td>448</td><td>27</td><td>Female</td><td>7.5</td><td>0.91</td><td>22</td><td>57</td><td>21</td><td>0</td><td> 0</td><td>0</td><td>No </td><td> 5</td></tr>\n",
       "\t<tr><th scope=row>449</th><td>449</td><td>52</td><td>Male  </td><td>6.0</td><td>0.74</td><td>28</td><td>57</td><td>15</td><td>4</td><td>25</td><td>0</td><td>No </td><td> 3</td></tr>\n",
       "\t<tr><th scope=row>450</th><td>450</td><td>40</td><td>Female</td><td>8.5</td><td>0.55</td><td>20</td><td>32</td><td>48</td><td>1</td><td>NA</td><td>3</td><td>Yes</td><td> 0</td></tr>\n",
       "\t<tr><th scope=row>451</th><td>451</td><td>45</td><td>Male  </td><td>7.0</td><td>0.76</td><td>18</td><td>72</td><td>10</td><td>3</td><td> 0</td><td>0</td><td>No </td><td> 3</td></tr>\n",
       "\t<tr><th scope=row>452</th><td>452</td><td>18</td><td>Male  </td><td>7.5</td><td>0.63</td><td>22</td><td>23</td><td>55</td><td>1</td><td>50</td><td>0</td><td>No </td><td> 1</td></tr>\n",
       "</tbody>\n",
       "</table>\n"
      ],
      "text/latex": [
       "A data.frame: 6 × 13\n",
       "\\begin{tabular}{r|lllllllllllll}\n",
       "  & ID & Age & Gender & Sleep.duration & Sleep.efficiency & REM.sleep.percentage & Deep.sleep.percentage & Light.sleep.percentage & Awakenings & Caffeine.consumption & Alcohol.consumption & Smoking.status & Exercise.frequency\\\\\n",
       "  & <int> & <int> & <chr> & <dbl> & <dbl> & <int> & <int> & <int> & <dbl> & <dbl> & <dbl> & <chr> & <dbl>\\\\\n",
       "\\hline\n",
       "\t447 & 447 & 23 & Male   & 7.0 & 0.50 & 15 & 40 & 45 & 2 &  0 & 4 & Yes & NA\\\\\n",
       "\t448 & 448 & 27 & Female & 7.5 & 0.91 & 22 & 57 & 21 & 0 &  0 & 0 & No  &  5\\\\\n",
       "\t449 & 449 & 52 & Male   & 6.0 & 0.74 & 28 & 57 & 15 & 4 & 25 & 0 & No  &  3\\\\\n",
       "\t450 & 450 & 40 & Female & 8.5 & 0.55 & 20 & 32 & 48 & 1 & NA & 3 & Yes &  0\\\\\n",
       "\t451 & 451 & 45 & Male   & 7.0 & 0.76 & 18 & 72 & 10 & 3 &  0 & 0 & No  &  3\\\\\n",
       "\t452 & 452 & 18 & Male   & 7.5 & 0.63 & 22 & 23 & 55 & 1 & 50 & 0 & No  &  1\\\\\n",
       "\\end{tabular}\n"
      ],
      "text/markdown": [
       "\n",
       "A data.frame: 6 × 13\n",
       "\n",
       "| <!--/--> | ID &lt;int&gt; | Age &lt;int&gt; | Gender &lt;chr&gt; | Sleep.duration &lt;dbl&gt; | Sleep.efficiency &lt;dbl&gt; | REM.sleep.percentage &lt;int&gt; | Deep.sleep.percentage &lt;int&gt; | Light.sleep.percentage &lt;int&gt; | Awakenings &lt;dbl&gt; | Caffeine.consumption &lt;dbl&gt; | Alcohol.consumption &lt;dbl&gt; | Smoking.status &lt;chr&gt; | Exercise.frequency &lt;dbl&gt; |\n",
       "|---|---|---|---|---|---|---|---|---|---|---|---|---|---|\n",
       "| 447 | 447 | 23 | Male   | 7.0 | 0.50 | 15 | 40 | 45 | 2 |  0 | 4 | Yes | NA |\n",
       "| 448 | 448 | 27 | Female | 7.5 | 0.91 | 22 | 57 | 21 | 0 |  0 | 0 | No  |  5 |\n",
       "| 449 | 449 | 52 | Male   | 6.0 | 0.74 | 28 | 57 | 15 | 4 | 25 | 0 | No  |  3 |\n",
       "| 450 | 450 | 40 | Female | 8.5 | 0.55 | 20 | 32 | 48 | 1 | NA | 3 | Yes |  0 |\n",
       "| 451 | 451 | 45 | Male   | 7.0 | 0.76 | 18 | 72 | 10 | 3 |  0 | 0 | No  |  3 |\n",
       "| 452 | 452 | 18 | Male   | 7.5 | 0.63 | 22 | 23 | 55 | 1 | 50 | 0 | No  |  1 |\n",
       "\n"
      ],
      "text/plain": [
       "    ID  Age Gender Sleep.duration Sleep.efficiency REM.sleep.percentage\n",
       "447 447 23  Male   7.0            0.50             15                  \n",
       "448 448 27  Female 7.5            0.91             22                  \n",
       "449 449 52  Male   6.0            0.74             28                  \n",
       "450 450 40  Female 8.5            0.55             20                  \n",
       "451 451 45  Male   7.0            0.76             18                  \n",
       "452 452 18  Male   7.5            0.63             22                  \n",
       "    Deep.sleep.percentage Light.sleep.percentage Awakenings\n",
       "447 40                    45                     2         \n",
       "448 57                    21                     0         \n",
       "449 57                    15                     4         \n",
       "450 32                    48                     1         \n",
       "451 72                    10                     3         \n",
       "452 23                    55                     1         \n",
       "    Caffeine.consumption Alcohol.consumption Smoking.status Exercise.frequency\n",
       "447  0                   4                   Yes            NA                \n",
       "448  0                   0                   No              5                \n",
       "449 25                   0                   No              3                \n",
       "450 NA                   3                   Yes             0                \n",
       "451  0                   0                   No              3                \n",
       "452 50                   0                   No              1                "
      ]
     },
     "metadata": {},
     "output_type": "display_data"
    }
   ],
   "source": [
    "# Remove 'Bedtime' and 'Wakeup time' columns\n",
    "sleep_data <- select(sleep_data, -Bedtime, -Wakeup.time)\n",
    "head(sleep_data)\n",
    "tail(sleep_data)"
   ]
  },
  {
   "cell_type": "markdown",
   "id": "0e591c06-13ca-4836-9b1e-8314efe88d32",
   "metadata": {},
   "source": [
    "We set \"Male\" as the baseline category for the categorical variable \"Gender\" in the regression analysis."
   ]
  },
  {
   "cell_type": "code",
   "execution_count": 19,
   "id": "c210a307-c1ff-4b62-9bf1-ebb3b0537164",
   "metadata": {},
   "outputs": [],
   "source": [
    "# Convert gender variable to factor\n",
    "sleep_data$Gender <- as.factor(sleep_data$Gender)\n",
    "\n",
    "# Set \"male\" as the baseline\n",
    "sleep_data$Gender <- relevel(sleep_data$Gender, ref = \"Male\")"
   ]
  },
  {
   "cell_type": "markdown",
   "id": "582ad16b-cec7-4826-adb5-196285109f56",
   "metadata": {},
   "source": [
    "We set \"No\" as the baseline category for the categorical variable \"Smoking.status\"."
   ]
  },
  {
   "cell_type": "code",
   "execution_count": 21,
   "id": "f8444463-cd69-406f-aee6-58bec7a1f2db",
   "metadata": {},
   "outputs": [],
   "source": [
    "# Convert Smoking.status to a factor variable\n",
    "sleep_data$Smoking.status <- as.factor(sleep_data$Smoking.status)\n",
    "\n",
    "# Set \"No\" as the baseline\n",
    "sleep_data$Smoking.status <- relevel(sleep_data$Smoking.status, ref = \"No\")"
   ]
  },
  {
   "cell_type": "markdown",
   "id": "f310911a-aa89-40b5-bdd6-f0df7f6c8300",
   "metadata": {},
   "source": [
    "We noticed that some data are missing. For the accuracy of the analysis, we decided to delete the rows with missing values."
   ]
  },
  {
   "cell_type": "code",
   "execution_count": 23,
   "id": "a2df4168-f618-4e1f-9ddd-35db86e8d686",
   "metadata": {},
   "outputs": [],
   "source": [
    "# Delete rows with missing data in each column\n",
    "sleep_data <- na.omit(sleep_data)"
   ]
  },
  {
   "cell_type": "code",
   "execution_count": 24,
   "id": "f6fbb8ca-6062-4dcb-a691-a27c82de3912",
   "metadata": {},
   "outputs": [
    {
     "data": {
      "text/html": [
       "<table class=\"dataframe\">\n",
       "<caption>A data.frame: 6 × 13</caption>\n",
       "<thead>\n",
       "\t<tr><th></th><th scope=col>ID</th><th scope=col>Age</th><th scope=col>Gender</th><th scope=col>Sleep.duration</th><th scope=col>Sleep.efficiency</th><th scope=col>REM.sleep.percentage</th><th scope=col>Deep.sleep.percentage</th><th scope=col>Light.sleep.percentage</th><th scope=col>Awakenings</th><th scope=col>Caffeine.consumption</th><th scope=col>Alcohol.consumption</th><th scope=col>Smoking.status</th><th scope=col>Exercise.frequency</th></tr>\n",
       "\t<tr><th></th><th scope=col>&lt;int&gt;</th><th scope=col>&lt;int&gt;</th><th scope=col>&lt;fct&gt;</th><th scope=col>&lt;dbl&gt;</th><th scope=col>&lt;dbl&gt;</th><th scope=col>&lt;int&gt;</th><th scope=col>&lt;int&gt;</th><th scope=col>&lt;int&gt;</th><th scope=col>&lt;dbl&gt;</th><th scope=col>&lt;dbl&gt;</th><th scope=col>&lt;dbl&gt;</th><th scope=col>&lt;fct&gt;</th><th scope=col>&lt;dbl&gt;</th></tr>\n",
       "</thead>\n",
       "<tbody>\n",
       "\t<tr><th scope=row>1</th><td>1</td><td>65</td><td>Female</td><td>6</td><td>0.88</td><td>18</td><td>70</td><td>12</td><td>0</td><td> 0</td><td>0</td><td>Yes</td><td>3</td></tr>\n",
       "\t<tr><th scope=row>2</th><td>2</td><td>69</td><td>Male  </td><td>7</td><td>0.66</td><td>19</td><td>28</td><td>53</td><td>3</td><td> 0</td><td>3</td><td>Yes</td><td>3</td></tr>\n",
       "\t<tr><th scope=row>3</th><td>3</td><td>40</td><td>Female</td><td>8</td><td>0.89</td><td>20</td><td>70</td><td>10</td><td>1</td><td> 0</td><td>0</td><td>No </td><td>3</td></tr>\n",
       "\t<tr><th scope=row>4</th><td>4</td><td>40</td><td>Female</td><td>6</td><td>0.51</td><td>23</td><td>25</td><td>52</td><td>3</td><td>50</td><td>5</td><td>Yes</td><td>1</td></tr>\n",
       "\t<tr><th scope=row>5</th><td>5</td><td>57</td><td>Male  </td><td>8</td><td>0.76</td><td>27</td><td>55</td><td>18</td><td>3</td><td> 0</td><td>3</td><td>No </td><td>3</td></tr>\n",
       "\t<tr><th scope=row>7</th><td>7</td><td>27</td><td>Female</td><td>6</td><td>0.54</td><td>28</td><td>25</td><td>47</td><td>2</td><td>50</td><td>0</td><td>Yes</td><td>1</td></tr>\n",
       "</tbody>\n",
       "</table>\n"
      ],
      "text/latex": [
       "A data.frame: 6 × 13\n",
       "\\begin{tabular}{r|lllllllllllll}\n",
       "  & ID & Age & Gender & Sleep.duration & Sleep.efficiency & REM.sleep.percentage & Deep.sleep.percentage & Light.sleep.percentage & Awakenings & Caffeine.consumption & Alcohol.consumption & Smoking.status & Exercise.frequency\\\\\n",
       "  & <int> & <int> & <fct> & <dbl> & <dbl> & <int> & <int> & <int> & <dbl> & <dbl> & <dbl> & <fct> & <dbl>\\\\\n",
       "\\hline\n",
       "\t1 & 1 & 65 & Female & 6 & 0.88 & 18 & 70 & 12 & 0 &  0 & 0 & Yes & 3\\\\\n",
       "\t2 & 2 & 69 & Male   & 7 & 0.66 & 19 & 28 & 53 & 3 &  0 & 3 & Yes & 3\\\\\n",
       "\t3 & 3 & 40 & Female & 8 & 0.89 & 20 & 70 & 10 & 1 &  0 & 0 & No  & 3\\\\\n",
       "\t4 & 4 & 40 & Female & 6 & 0.51 & 23 & 25 & 52 & 3 & 50 & 5 & Yes & 1\\\\\n",
       "\t5 & 5 & 57 & Male   & 8 & 0.76 & 27 & 55 & 18 & 3 &  0 & 3 & No  & 3\\\\\n",
       "\t7 & 7 & 27 & Female & 6 & 0.54 & 28 & 25 & 47 & 2 & 50 & 0 & Yes & 1\\\\\n",
       "\\end{tabular}\n"
      ],
      "text/markdown": [
       "\n",
       "A data.frame: 6 × 13\n",
       "\n",
       "| <!--/--> | ID &lt;int&gt; | Age &lt;int&gt; | Gender &lt;fct&gt; | Sleep.duration &lt;dbl&gt; | Sleep.efficiency &lt;dbl&gt; | REM.sleep.percentage &lt;int&gt; | Deep.sleep.percentage &lt;int&gt; | Light.sleep.percentage &lt;int&gt; | Awakenings &lt;dbl&gt; | Caffeine.consumption &lt;dbl&gt; | Alcohol.consumption &lt;dbl&gt; | Smoking.status &lt;fct&gt; | Exercise.frequency &lt;dbl&gt; |\n",
       "|---|---|---|---|---|---|---|---|---|---|---|---|---|---|\n",
       "| 1 | 1 | 65 | Female | 6 | 0.88 | 18 | 70 | 12 | 0 |  0 | 0 | Yes | 3 |\n",
       "| 2 | 2 | 69 | Male   | 7 | 0.66 | 19 | 28 | 53 | 3 |  0 | 3 | Yes | 3 |\n",
       "| 3 | 3 | 40 | Female | 8 | 0.89 | 20 | 70 | 10 | 1 |  0 | 0 | No  | 3 |\n",
       "| 4 | 4 | 40 | Female | 6 | 0.51 | 23 | 25 | 52 | 3 | 50 | 5 | Yes | 1 |\n",
       "| 5 | 5 | 57 | Male   | 8 | 0.76 | 27 | 55 | 18 | 3 |  0 | 3 | No  | 3 |\n",
       "| 7 | 7 | 27 | Female | 6 | 0.54 | 28 | 25 | 47 | 2 | 50 | 0 | Yes | 1 |\n",
       "\n"
      ],
      "text/plain": [
       "  ID Age Gender Sleep.duration Sleep.efficiency REM.sleep.percentage\n",
       "1 1  65  Female 6              0.88             18                  \n",
       "2 2  69  Male   7              0.66             19                  \n",
       "3 3  40  Female 8              0.89             20                  \n",
       "4 4  40  Female 6              0.51             23                  \n",
       "5 5  57  Male   8              0.76             27                  \n",
       "7 7  27  Female 6              0.54             28                  \n",
       "  Deep.sleep.percentage Light.sleep.percentage Awakenings Caffeine.consumption\n",
       "1 70                    12                     0           0                  \n",
       "2 28                    53                     3           0                  \n",
       "3 70                    10                     1           0                  \n",
       "4 25                    52                     3          50                  \n",
       "5 55                    18                     3           0                  \n",
       "7 25                    47                     2          50                  \n",
       "  Alcohol.consumption Smoking.status Exercise.frequency\n",
       "1 0                   Yes            3                 \n",
       "2 3                   Yes            3                 \n",
       "3 0                   No             3                 \n",
       "4 5                   Yes            1                 \n",
       "5 3                   No             3                 \n",
       "7 0                   Yes            1                 "
      ]
     },
     "metadata": {},
     "output_type": "display_data"
    },
    {
     "data": {
      "text/html": [
       "<table class=\"dataframe\">\n",
       "<caption>A data.frame: 6 × 13</caption>\n",
       "<thead>\n",
       "\t<tr><th></th><th scope=col>ID</th><th scope=col>Age</th><th scope=col>Gender</th><th scope=col>Sleep.duration</th><th scope=col>Sleep.efficiency</th><th scope=col>REM.sleep.percentage</th><th scope=col>Deep.sleep.percentage</th><th scope=col>Light.sleep.percentage</th><th scope=col>Awakenings</th><th scope=col>Caffeine.consumption</th><th scope=col>Alcohol.consumption</th><th scope=col>Smoking.status</th><th scope=col>Exercise.frequency</th></tr>\n",
       "\t<tr><th></th><th scope=col>&lt;int&gt;</th><th scope=col>&lt;int&gt;</th><th scope=col>&lt;fct&gt;</th><th scope=col>&lt;dbl&gt;</th><th scope=col>&lt;dbl&gt;</th><th scope=col>&lt;int&gt;</th><th scope=col>&lt;int&gt;</th><th scope=col>&lt;int&gt;</th><th scope=col>&lt;dbl&gt;</th><th scope=col>&lt;dbl&gt;</th><th scope=col>&lt;dbl&gt;</th><th scope=col>&lt;fct&gt;</th><th scope=col>&lt;dbl&gt;</th></tr>\n",
       "</thead>\n",
       "<tbody>\n",
       "\t<tr><th scope=row>445</th><td>445</td><td>24</td><td>Male  </td><td>7.5</td><td>0.58</td><td>24</td><td>28</td><td>48</td><td>1</td><td> 0</td><td>2</td><td>Yes</td><td>0</td></tr>\n",
       "\t<tr><th scope=row>446</th><td>446</td><td>30</td><td>Female</td><td>7.5</td><td>0.53</td><td>28</td><td>20</td><td>52</td><td>4</td><td>50</td><td>2</td><td>Yes</td><td>1</td></tr>\n",
       "\t<tr><th scope=row>448</th><td>448</td><td>27</td><td>Female</td><td>7.5</td><td>0.91</td><td>22</td><td>57</td><td>21</td><td>0</td><td> 0</td><td>0</td><td>No </td><td>5</td></tr>\n",
       "\t<tr><th scope=row>449</th><td>449</td><td>52</td><td>Male  </td><td>6.0</td><td>0.74</td><td>28</td><td>57</td><td>15</td><td>4</td><td>25</td><td>0</td><td>No </td><td>3</td></tr>\n",
       "\t<tr><th scope=row>451</th><td>451</td><td>45</td><td>Male  </td><td>7.0</td><td>0.76</td><td>18</td><td>72</td><td>10</td><td>3</td><td> 0</td><td>0</td><td>No </td><td>3</td></tr>\n",
       "\t<tr><th scope=row>452</th><td>452</td><td>18</td><td>Male  </td><td>7.5</td><td>0.63</td><td>22</td><td>23</td><td>55</td><td>1</td><td>50</td><td>0</td><td>No </td><td>1</td></tr>\n",
       "</tbody>\n",
       "</table>\n"
      ],
      "text/latex": [
       "A data.frame: 6 × 13\n",
       "\\begin{tabular}{r|lllllllllllll}\n",
       "  & ID & Age & Gender & Sleep.duration & Sleep.efficiency & REM.sleep.percentage & Deep.sleep.percentage & Light.sleep.percentage & Awakenings & Caffeine.consumption & Alcohol.consumption & Smoking.status & Exercise.frequency\\\\\n",
       "  & <int> & <int> & <fct> & <dbl> & <dbl> & <int> & <int> & <int> & <dbl> & <dbl> & <dbl> & <fct> & <dbl>\\\\\n",
       "\\hline\n",
       "\t445 & 445 & 24 & Male   & 7.5 & 0.58 & 24 & 28 & 48 & 1 &  0 & 2 & Yes & 0\\\\\n",
       "\t446 & 446 & 30 & Female & 7.5 & 0.53 & 28 & 20 & 52 & 4 & 50 & 2 & Yes & 1\\\\\n",
       "\t448 & 448 & 27 & Female & 7.5 & 0.91 & 22 & 57 & 21 & 0 &  0 & 0 & No  & 5\\\\\n",
       "\t449 & 449 & 52 & Male   & 6.0 & 0.74 & 28 & 57 & 15 & 4 & 25 & 0 & No  & 3\\\\\n",
       "\t451 & 451 & 45 & Male   & 7.0 & 0.76 & 18 & 72 & 10 & 3 &  0 & 0 & No  & 3\\\\\n",
       "\t452 & 452 & 18 & Male   & 7.5 & 0.63 & 22 & 23 & 55 & 1 & 50 & 0 & No  & 1\\\\\n",
       "\\end{tabular}\n"
      ],
      "text/markdown": [
       "\n",
       "A data.frame: 6 × 13\n",
       "\n",
       "| <!--/--> | ID &lt;int&gt; | Age &lt;int&gt; | Gender &lt;fct&gt; | Sleep.duration &lt;dbl&gt; | Sleep.efficiency &lt;dbl&gt; | REM.sleep.percentage &lt;int&gt; | Deep.sleep.percentage &lt;int&gt; | Light.sleep.percentage &lt;int&gt; | Awakenings &lt;dbl&gt; | Caffeine.consumption &lt;dbl&gt; | Alcohol.consumption &lt;dbl&gt; | Smoking.status &lt;fct&gt; | Exercise.frequency &lt;dbl&gt; |\n",
       "|---|---|---|---|---|---|---|---|---|---|---|---|---|---|\n",
       "| 445 | 445 | 24 | Male   | 7.5 | 0.58 | 24 | 28 | 48 | 1 |  0 | 2 | Yes | 0 |\n",
       "| 446 | 446 | 30 | Female | 7.5 | 0.53 | 28 | 20 | 52 | 4 | 50 | 2 | Yes | 1 |\n",
       "| 448 | 448 | 27 | Female | 7.5 | 0.91 | 22 | 57 | 21 | 0 |  0 | 0 | No  | 5 |\n",
       "| 449 | 449 | 52 | Male   | 6.0 | 0.74 | 28 | 57 | 15 | 4 | 25 | 0 | No  | 3 |\n",
       "| 451 | 451 | 45 | Male   | 7.0 | 0.76 | 18 | 72 | 10 | 3 |  0 | 0 | No  | 3 |\n",
       "| 452 | 452 | 18 | Male   | 7.5 | 0.63 | 22 | 23 | 55 | 1 | 50 | 0 | No  | 1 |\n",
       "\n"
      ],
      "text/plain": [
       "    ID  Age Gender Sleep.duration Sleep.efficiency REM.sleep.percentage\n",
       "445 445 24  Male   7.5            0.58             24                  \n",
       "446 446 30  Female 7.5            0.53             28                  \n",
       "448 448 27  Female 7.5            0.91             22                  \n",
       "449 449 52  Male   6.0            0.74             28                  \n",
       "451 451 45  Male   7.0            0.76             18                  \n",
       "452 452 18  Male   7.5            0.63             22                  \n",
       "    Deep.sleep.percentage Light.sleep.percentage Awakenings\n",
       "445 28                    48                     1         \n",
       "446 20                    52                     4         \n",
       "448 57                    21                     0         \n",
       "449 57                    15                     4         \n",
       "451 72                    10                     3         \n",
       "452 23                    55                     1         \n",
       "    Caffeine.consumption Alcohol.consumption Smoking.status Exercise.frequency\n",
       "445  0                   2                   Yes            0                 \n",
       "446 50                   2                   Yes            1                 \n",
       "448  0                   0                   No             5                 \n",
       "449 25                   0                   No             3                 \n",
       "451  0                   0                   No             3                 \n",
       "452 50                   0                   No             1                 "
      ]
     },
     "metadata": {},
     "output_type": "display_data"
    }
   ],
   "source": [
    "head(sleep_data)\n",
    "tail(sleep_data)"
   ]
  },
  {
   "cell_type": "code",
   "execution_count": 25,
   "id": "31677d5b-e800-418e-bb13-d636316881f3",
   "metadata": {},
   "outputs": [
    {
     "data": {
      "text/plain": [
       "       ID             Age           Gender    Sleep.duration   Sleep.efficiency\n",
       " Min.   :  1.0   Min.   : 9.00   Male  :194   Min.   : 5.000   Min.   :0.5000  \n",
       " 1st Qu.:111.8   1st Qu.:29.00   Female:194   1st Qu.: 7.000   1st Qu.:0.7000  \n",
       " Median :228.5   Median :41.00                Median : 7.500   Median :0.8200  \n",
       " Mean   :226.3   Mean   :40.83                Mean   : 7.451   Mean   :0.7893  \n",
       " 3rd Qu.:339.2   3rd Qu.:52.00                3rd Qu.: 8.000   3rd Qu.:0.9000  \n",
       " Max.   :452.0   Max.   :69.00                Max.   :10.000   Max.   :0.9900  \n",
       " REM.sleep.percentage Deep.sleep.percentage Light.sleep.percentage\n",
       " Min.   :15.00        Min.   :18.00         Min.   : 7.0          \n",
       " 1st Qu.:20.00        1st Qu.:51.00         1st Qu.:15.0          \n",
       " Median :22.00        Median :58.00         Median :18.0          \n",
       " Mean   :22.68        Mean   :52.82         Mean   :24.5          \n",
       " 3rd Qu.:25.00        3rd Qu.:63.00         3rd Qu.:24.0          \n",
       " Max.   :30.00        Max.   :75.00         Max.   :63.0          \n",
       "   Awakenings    Caffeine.consumption Alcohol.consumption Smoking.status\n",
       " Min.   :0.000   Min.   :  0.00       Min.   :0.000       No :255       \n",
       " 1st Qu.:1.000   1st Qu.:  0.00       1st Qu.:0.000       Yes:133       \n",
       " Median :1.000   Median :  0.00       Median :0.000                     \n",
       " Mean   :1.619   Mean   : 22.68       Mean   :1.147                     \n",
       " 3rd Qu.:3.000   3rd Qu.: 50.00       3rd Qu.:2.000                     \n",
       " Max.   :4.000   Max.   :200.00       Max.   :5.000                     \n",
       " Exercise.frequency\n",
       " Min.   :0.000     \n",
       " 1st Qu.:0.000     \n",
       " Median :2.000     \n",
       " Mean   :1.758     \n",
       " 3rd Qu.:3.000     \n",
       " Max.   :5.000     "
      ]
     },
     "metadata": {},
     "output_type": "display_data"
    }
   ],
   "source": []
  },
  {
   "cell_type": "code",
   "execution_count": null,
   "id": "8cf50dea-99fb-4241-96de-8f1b844b8398",
   "metadata": {},
   "outputs": [],
   "source": []
  }
 ],
 "metadata": {
  "kernelspec": {
   "display_name": "R",
   "language": "R",
   "name": "ir"
  },
  "language_info": {
   "codemirror_mode": "r",
   "file_extension": ".r",
   "mimetype": "text/x-r-source",
   "name": "R",
   "pygments_lexer": "r",
   "version": "4.3.1"
  }
 },
 "nbformat": 4,
 "nbformat_minor": 5
}
